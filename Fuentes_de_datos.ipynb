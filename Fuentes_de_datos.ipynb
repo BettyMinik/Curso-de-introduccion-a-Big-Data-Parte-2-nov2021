{
  "nbformat": 4,
  "nbformat_minor": 0,
  "metadata": {
    "colab": {
      "name": "Fuentes de datos.ipynb",
      "provenance": [],
      "authorship_tag": "ABX9TyMYGWxen4aTYWbFjCZRu53e",
      "include_colab_link": true
    },
    "kernelspec": {
      "name": "python3",
      "display_name": "Python 3"
    },
    "language_info": {
      "name": "python"
    }
  },
  "cells": [
    {
      "cell_type": "markdown",
      "metadata": {
        "id": "view-in-github",
        "colab_type": "text"
      },
      "source": [
        "<a href=\"https://colab.research.google.com/github/alberto1971/Curso-de-introduccion-a-Big-Data-Parte-2-nov2021/blob/main/Fuentes_de_datos.ipynb\" target=\"_parent\"><img src=\"https://colab.research.google.com/assets/colab-badge.svg\" alt=\"Open In Colab\"/></a>"
      ]
    },
    {
      "cell_type": "markdown",
      "metadata": {
        "id": "lWJniAZK944o"
      },
      "source": [
        "#Fuentes de datos"
      ]
    },
    {
      "cell_type": "markdown",
      "metadata": {
        "id": "b_ptfdTC-T2S"
      },
      "source": [
        "Los datos que utilizamos en Big Data pueden proceder de distintas fuentes y se suelen encontrar en varios formatos\n",
        "\n",
        "Los datos pueden ser: numéricos, texto, alfanuméricos, sonidos, imágenes 2D, imágenes 3D, videos, georeferenciados, ... \n",
        "\n",
        "Pueden estar almacenados en ficheros locales:\n",
        "\n",
        "- Texto (txt, csv, json)\n",
        "- Excel\n",
        "- Bases de datos (SQL, Access)\n",
        "- Ficheros de ficheros: Carpetas / Directorios\n",
        "\n",
        "Pueden estar almacenados en internet:\n",
        "- Formularios\n",
        "- Open Data\n"
      ]
    },
    {
      "cell_type": "markdown",
      "metadata": {
        "id": "YV8st9Ce_zvs"
      },
      "source": [
        "#Datos en internet\n",
        "\n",
        "##Indicadores mundiales:\n",
        "https://databank.worldbank.org/home\n",
        "\n",
        "##Economía\n",
        "https://fred.stlouisfed.org/categories/32263\n",
        "\n",
        "https://www.imf.org/en/Data\n",
        "\n",
        "##Salud\n",
        "https://www.who.int/data/gho\n",
        "\n",
        "##Meteorología\n",
        "https://www.ncdc.noaa.gov/data-access\n",
        "\n",
        "##Unión Europea\n",
        "https://ec.europa.eu/eurostat\n",
        "\n",
        "##Educación UE\n",
        "https://data.europa.eu/es/highlights/open-education-data-european-data-portal\n",
        "\n",
        "##España (INE)\n",
        "https://www.ine.es/ss/Satellite?L=0&c=Page&cid=1259942408928&p=1259942408928&pagename=ProductosYServicios%2FPYSLayout\n",
        "\n",
        "##Canarias (ISTAC)\n",
        "http://www.gobiernodecanarias.org/istac/datos-abiertos/\n",
        "\n",
        "#Buscador de datos:\n",
        "https://www.google.com/publicdata/directory\n",
        "\n",
        "\n",
        "\n"
      ]
    },
    {
      "cell_type": "markdown",
      "metadata": {
        "id": "6enY6rW-BiSD"
      },
      "source": [
        "##Política de Transparencia y Open Data\n",
        "\n",
        "Aunque en primera instancia puedas creer que el Portal de Transparencia y el Portal Open Data (también conocido como Portal de Datos Abiertos) son la misma plataforma, en realidad, no es así.\n",
        "\n",
        "La diferencia principal entre ambos portales es que en el Portal de Transparencia la información pública está para su consulta y facilitar el acceso por parte de la ciudadanía, mientras que en el Portal de Open Data la información está disponible en diversos formatos (.pdf, .csv, .xls, .doc, …etc) con el principal objetivo y finalidad de que pueda ser reutilizado por parte de la ciudadanía y empresas.\n",
        "\n",
        "Por lo que es importante que se complementen y que así se facilite el acceso a la información de manera transparente, veraz y actualizada a todos los miembros de la ciudadanía."
      ]
    },
    {
      "cell_type": "markdown",
      "metadata": {
        "id": "riIgFA9HB7Xa"
      },
      "source": [
        "#Datos en aplicaciones de internet: las APIs\n",
        "El término API es una abreviatura de Application Programming Interfaces, que en español significa interfaz de programación de aplicaciones. Se trata de un conjunto de definiciones y protocolos que se utiliza para desarrollar e integrar el software de las aplicaciones, permitiendo la comunicación entre dos aplicaciones de software a través de un conjunto de reglas.\n",
        "\n",
        "Así pues, podemos hablar de una API como una especificación formal que establece cómo un módulo de un software se comunica o interactúa con otro para cumplir una o muchas funciones. Todo dependiendo de las aplicaciones que las vayan a utilizar, y de los permisos que les dé el propietario de la API a los desarrolladores de terceros.\n",
        "\n",
        "APIs:\n",
        "\n",
        "- Twitter\n",
        "- Idealista\n",
        "\n",
        "https://rapidapi.com/collection/list-of-free-apis"
      ]
    },
    {
      "cell_type": "markdown",
      "metadata": {
        "id": "-SU9Z0K0E42Y"
      },
      "source": [
        "#Web scrapping"
      ]
    },
    {
      "cell_type": "code",
      "metadata": {
        "id": "BkpL64QSTU99"
      },
      "source": [
        "import requests\n",
        "from bs4 import BeautifulSoup"
      ],
      "execution_count": null,
      "outputs": []
    },
    {
      "cell_type": "code",
      "metadata": {
        "colab": {
          "base_uri": "https://localhost:8080/",
          "height": 334
        },
        "id": "g4jI06U6cuuU",
        "outputId": "50f314fc-c73d-4be7-c0b2-bdaafbe3a68e"
      },
      "source": [
        "import pandas as pd\n",
        "from bs4 import BeautifulSoup\n",
        "import requests\n",
        "\n",
        "url='https://www.filmaffinity.com/es/topcat.php?id=new_sa_es'\n",
        "\n",
        "r=requests.get(url)\n",
        "html_doc=r.text.encode('raw_unicode_escape') #.decode('utf-8')\n",
        "\n",
        "pd.set_option('display.max_colwidth', 250)\n",
        "columns=('Título','Año','Género','Argumento','Valoración','Votos')\n",
        "index=range(0)\n",
        "d=pd.DataFrame(index=index, columns=columns)\n",
        "\n",
        "soup=BeautifulSoup(html_doc,\"html.parser\")\n",
        "entradas = soup.find_all('div', {'class': 'mc-right'})\n",
        "\n",
        "for i, entrada in enumerate(entradas):\n",
        "    # Con el método \"getText()\" no nos devuelve el HTML\n",
        "    titulo1 = entrada.find('a').getText()\n",
        "    r=titulo1.find('(')\n",
        "    if r > -1:\n",
        "        titulo=titulo1[:r-1]\n",
        "    else:\n",
        "        titulo=titulo1\n",
        "    # Sino llamamos al método \"getText()\" nos devuelve también el HTML\n",
        "    genero = entrada.find('a', {'class': 'genre'}).getText()\n",
        "    arg=entrada.find('a', {'class':'synop-text'}).getText()\n",
        "    rating = entrada.find('div', {'class': 'avg-rating'}).getText()\n",
        "    votos = entrada.find('div', {'class': 'rat-count'}).getText()\n",
        "    year=entrada.find('div', {'class': 'mc-data'}).getText()[1:5]\n",
        "    # Imprimo el Título, Autor y Fecha de las entradas\n",
        "    #print (\"%d- %s (%s): %s\" % (i + 1, titulo , genero, rating))\n",
        "    if 'Animación' not in genero and 'Documental' not in genero and 'Serie de TV' not in genero and year[0:3]=='201':\n",
        "        d=d.append([{'Título':titulo,'Año':year,'Género': genero,'Argumento':arg,'Valoración':rating,'Votos': votos[1:]}],ignore_index=True)\n",
        "d"
      ],
      "execution_count": null,
      "outputs": [
        {
          "output_type": "execute_result",
          "data": {
            "text/html": [
              "<div>\n",
              "<style scoped>\n",
              "    .dataframe tbody tr th:only-of-type {\n",
              "        vertical-align: middle;\n",
              "    }\n",
              "\n",
              "    .dataframe tbody tr th {\n",
              "        vertical-align: top;\n",
              "    }\n",
              "\n",
              "    .dataframe thead th {\n",
              "        text-align: right;\n",
              "    }\n",
              "</style>\n",
              "<table border=\"1\" class=\"dataframe\">\n",
              "  <thead>\n",
              "    <tr style=\"text-align: right;\">\n",
              "      <th></th>\n",
              "      <th>Título</th>\n",
              "      <th>Año</th>\n",
              "      <th>Género</th>\n",
              "      <th>Argumento</th>\n",
              "      <th>Valoración</th>\n",
              "      <th>Votos</th>\n",
              "    </tr>\n",
              "  </thead>\n",
              "  <tbody>\n",
              "    <tr>\n",
              "      <th>0</th>\n",
              "      <td>Corpus Christi</td>\n",
              "      <td>2019</td>\n",
              "      <td>Drama</td>\n",
              "      <td>Narra la historia de Daniel, de 20 años de edad, quien experimenta una transformación espiritual mientras vive en un Centro de Detención Juvenil. Quiere ser sacerdote, pero esto es imposible debido a ... [+]</td>\n",
              "      <td>7,2</td>\n",
              "      <td>3.781</td>\n",
              "    </tr>\n",
              "    <tr>\n",
              "      <th>1</th>\n",
              "      <td>Entre nosotras</td>\n",
              "      <td>2019</td>\n",
              "      <td>Romance</td>\n",
              "      <td>Nina y Madeleine, dos mujeres jubiladas, están secretamente enamoradas desde hace décadas. Aunque de cara a los demás no son más que dos vecinas, vienen y van de una casa a la otra compartiendo la ... [+]</td>\n",
              "      <td>6,9</td>\n",
              "      <td>691</td>\n",
              "    </tr>\n",
              "    <tr>\n",
              "      <th>2</th>\n",
              "      <td>Solo las bestias</td>\n",
              "      <td>2019</td>\n",
              "      <td>Intriga</td>\n",
              "      <td>Una mujer desaparece. Después de una tormenta de nieve, su coche es descubierto en una carretera en dirección a un pueblo remoto. Mientras que la policía no sabe por dónde empezar a investigar, cinco ... [+]</td>\n",
              "      <td>6,8</td>\n",
              "      <td>1.755</td>\n",
              "    </tr>\n",
              "    <tr>\n",
              "      <th>3</th>\n",
              "      <td>Señor</td>\n",
              "      <td>2018</td>\n",
              "      <td>Romance</td>\n",
              "      <td>Ratna trabaja como asistenta doméstica de Ashwin, un hombre de una familia adinerada. Aunque Ashwin parece tenerlo todo, Ratna puede sentir que ha abandonado sus sueños. Por otra parte, Ratna, que ... [+]</td>\n",
              "      <td>6,8</td>\n",
              "      <td>239</td>\n",
              "    </tr>\n",
              "    <tr>\n",
              "      <th>4</th>\n",
              "      <td>Regreso a Hope Gap</td>\n",
              "      <td>2019</td>\n",
              "      <td>Drama</td>\n",
              "      <td>Edward toma la decisión de dejar a su mujer Grace tras 29 años de matrimonio. A partir de este momento, cada uno de ellos, a su manera, buscará la forma de rehacer su vida en un pequeño pueblo costero ... [+]</td>\n",
              "      <td>6,5</td>\n",
              "      <td>814</td>\n",
              "    </tr>\n",
              "    <tr>\n",
              "      <th>5</th>\n",
              "      <td>El monstruo de St. Pauli</td>\n",
              "      <td>2019</td>\n",
              "      <td>Thriller</td>\n",
              "      <td>Un despiadado asesino en serie siembra el terror entre los habitantes de la ciudad de Hamburgo a principios de la década de los 70. (FILMAFFINITY)</td>\n",
              "      <td>6,4</td>\n",
              "      <td>2.373</td>\n",
              "    </tr>\n",
              "  </tbody>\n",
              "</table>\n",
              "</div>"
            ],
            "text/plain": [
              "                      Título   Año  ... Valoración                          Votos\n",
              "0            Corpus Christi   2019  ...        7,2  3.781                        \n",
              "1            Entre nosotras   2019  ...        6,9    691                        \n",
              "2          Solo las bestias   2019  ...        6,8  1.755                        \n",
              "3                     Señor   2018  ...        6,8    239                        \n",
              "4        Regreso a Hope Gap   2019  ...        6,5    814                        \n",
              "5  El monstruo de St. Pauli   2019  ...        6,4  2.373                        \n",
              "\n",
              "[6 rows x 6 columns]"
            ]
          },
          "metadata": {},
          "execution_count": 62
        }
      ]
    },
    {
      "cell_type": "markdown",
      "metadata": {
        "id": "qge48vrME9dy"
      },
      "source": [
        "#Datos geoespaciales: Sistemas de Información Geográfica (GIS)\n"
      ]
    },
    {
      "cell_type": "markdown",
      "metadata": {
        "id": "uD3DmEOWDUDQ"
      },
      "source": [
        "##EJEMPLO: Yahoo Finance\n",
        "https://finance.yahoo.com/quote/MSFT\n",
        "\n",
        "\n"
      ]
    },
    {
      "cell_type": "code",
      "metadata": {
        "id": "Ugc-YjeIKczv"
      },
      "source": [
        "import pandas as pd"
      ],
      "execution_count": null,
      "outputs": []
    },
    {
      "cell_type": "code",
      "metadata": {
        "id": "S5tOoZcP9ybG"
      },
      "source": [
        "data = pd.read_csv('MSFT.csv')"
      ],
      "execution_count": null,
      "outputs": []
    },
    {
      "cell_type": "code",
      "metadata": {
        "colab": {
          "base_uri": "https://localhost:8080/",
          "height": 202
        },
        "id": "xA01Tfk8Mk6y",
        "outputId": "1c6a7f4c-9232-4562-f7e7-55da33d45520"
      },
      "source": [
        "data.head()"
      ],
      "execution_count": null,
      "outputs": [
        {
          "output_type": "execute_result",
          "data": {
            "text/html": [
              "<div>\n",
              "<style scoped>\n",
              "    .dataframe tbody tr th:only-of-type {\n",
              "        vertical-align: middle;\n",
              "    }\n",
              "\n",
              "    .dataframe tbody tr th {\n",
              "        vertical-align: top;\n",
              "    }\n",
              "\n",
              "    .dataframe thead th {\n",
              "        text-align: right;\n",
              "    }\n",
              "</style>\n",
              "<table border=\"1\" class=\"dataframe\">\n",
              "  <thead>\n",
              "    <tr style=\"text-align: right;\">\n",
              "      <th></th>\n",
              "      <th>Date</th>\n",
              "      <th>Open</th>\n",
              "      <th>High</th>\n",
              "      <th>Low</th>\n",
              "      <th>Close</th>\n",
              "      <th>Adj Close</th>\n",
              "      <th>Volume</th>\n",
              "    </tr>\n",
              "  </thead>\n",
              "  <tbody>\n",
              "    <tr>\n",
              "      <th>0</th>\n",
              "      <td>2020-09-21</td>\n",
              "      <td>197.190002</td>\n",
              "      <td>202.710007</td>\n",
              "      <td>196.380005</td>\n",
              "      <td>202.539993</td>\n",
              "      <td>200.698380</td>\n",
              "      <td>39839700</td>\n",
              "    </tr>\n",
              "    <tr>\n",
              "      <th>1</th>\n",
              "      <td>2020-09-22</td>\n",
              "      <td>205.059998</td>\n",
              "      <td>208.100006</td>\n",
              "      <td>202.080002</td>\n",
              "      <td>207.419998</td>\n",
              "      <td>205.534012</td>\n",
              "      <td>33517100</td>\n",
              "    </tr>\n",
              "    <tr>\n",
              "      <th>2</th>\n",
              "      <td>2020-09-23</td>\n",
              "      <td>207.899994</td>\n",
              "      <td>208.100006</td>\n",
              "      <td>200.029999</td>\n",
              "      <td>200.589996</td>\n",
              "      <td>198.766129</td>\n",
              "      <td>30803800</td>\n",
              "    </tr>\n",
              "    <tr>\n",
              "      <th>3</th>\n",
              "      <td>2020-09-24</td>\n",
              "      <td>199.850006</td>\n",
              "      <td>205.570007</td>\n",
              "      <td>199.199997</td>\n",
              "      <td>203.190002</td>\n",
              "      <td>201.342484</td>\n",
              "      <td>31202500</td>\n",
              "    </tr>\n",
              "    <tr>\n",
              "      <th>4</th>\n",
              "      <td>2020-09-25</td>\n",
              "      <td>203.550003</td>\n",
              "      <td>209.039993</td>\n",
              "      <td>202.539993</td>\n",
              "      <td>207.820007</td>\n",
              "      <td>205.930389</td>\n",
              "      <td>29437300</td>\n",
              "    </tr>\n",
              "  </tbody>\n",
              "</table>\n",
              "</div>"
            ],
            "text/plain": [
              "         Date        Open        High  ...       Close   Adj Close    Volume\n",
              "0  2020-09-21  197.190002  202.710007  ...  202.539993  200.698380  39839700\n",
              "1  2020-09-22  205.059998  208.100006  ...  207.419998  205.534012  33517100\n",
              "2  2020-09-23  207.899994  208.100006  ...  200.589996  198.766129  30803800\n",
              "3  2020-09-24  199.850006  205.570007  ...  203.190002  201.342484  31202500\n",
              "4  2020-09-25  203.550003  209.039993  ...  207.820007  205.930389  29437300\n",
              "\n",
              "[5 rows x 7 columns]"
            ]
          },
          "metadata": {},
          "execution_count": 9
        }
      ]
    },
    {
      "cell_type": "markdown",
      "metadata": {
        "id": "mvfk8SHKFLTu"
      },
      "source": [
        "##Caso práctico: Esperanza de vida por país"
      ]
    },
    {
      "cell_type": "code",
      "metadata": {
        "id": "g2ZSxcZxFK8m"
      },
      "source": [
        ""
      ],
      "execution_count": null,
      "outputs": []
    },
    {
      "cell_type": "markdown",
      "metadata": {
        "id": "yS2yvu4YFukK"
      },
      "source": [
        "#Importar excel con Pandas\n",
        "https://pandas.pydata.org/pandas-docs/stable/reference/api/pandas.read_excel.html"
      ]
    },
    {
      "cell_type": "markdown",
      "metadata": {
        "id": "Gnh1wChpFT-E"
      },
      "source": [
        "##Caso práctico: Tasa de abandono escolar zonas UE\n",
        "\n",
        "https://ec.europa.eu/eurostat/databrowser/view/tgs00106/default/table?lang=en"
      ]
    },
    {
      "cell_type": "code",
      "metadata": {
        "colab": {
          "base_uri": "https://localhost:8080/",
          "height": 446
        },
        "id": "X-58TaQjJNdT",
        "outputId": "092ca657-4542-4aa6-fd90-ee375e1c9095"
      },
      "source": [
        "import pandas as pd\n",
        "df=pd.read_excel('sample_data/TGS001061632140549704.xlsx',\n",
        "              sheet_name='Sheet 1', \n",
        "              header=9, \n",
        "              nrows=123, \n",
        "              usecols=(0,1,3,5,7,9,11,13,15,17,19),\n",
        "              index_col=0, \n",
        "              na_values=\":\",\n",
        "              skiprows= lambda x: x in [10, 10])\n",
        "df"
      ],
      "execution_count": null,
      "outputs": [
        {
          "output_type": "execute_result",
          "data": {
            "text/html": [
              "<div>\n",
              "<style scoped>\n",
              "    .dataframe tbody tr th:only-of-type {\n",
              "        vertical-align: middle;\n",
              "    }\n",
              "\n",
              "    .dataframe tbody tr th {\n",
              "        vertical-align: top;\n",
              "    }\n",
              "\n",
              "    .dataframe thead th {\n",
              "        text-align: right;\n",
              "    }\n",
              "</style>\n",
              "<table border=\"1\" class=\"dataframe\">\n",
              "  <thead>\n",
              "    <tr style=\"text-align: right;\">\n",
              "      <th></th>\n",
              "      <th>2009</th>\n",
              "      <th>2010</th>\n",
              "      <th>2011</th>\n",
              "      <th>2012</th>\n",
              "      <th>2013</th>\n",
              "      <th>2014</th>\n",
              "      <th>2015</th>\n",
              "      <th>2016</th>\n",
              "      <th>2017</th>\n",
              "      <th>2018</th>\n",
              "    </tr>\n",
              "    <tr>\n",
              "      <th>TIME</th>\n",
              "      <th></th>\n",
              "      <th></th>\n",
              "      <th></th>\n",
              "      <th></th>\n",
              "      <th></th>\n",
              "      <th></th>\n",
              "      <th></th>\n",
              "      <th></th>\n",
              "      <th></th>\n",
              "      <th></th>\n",
              "    </tr>\n",
              "  </thead>\n",
              "  <tbody>\n",
              "    <tr>\n",
              "      <th>Région de Bruxelles-Capitale/Brussels Hoofdstedelijk Gewest</th>\n",
              "      <td>15.6</td>\n",
              "      <td>18.4</td>\n",
              "      <td>18.9</td>\n",
              "      <td>20.1</td>\n",
              "      <td>17.7</td>\n",
              "      <td>14.4</td>\n",
              "      <td>15.8</td>\n",
              "      <td>14.8</td>\n",
              "      <td>12.9</td>\n",
              "      <td>10.7</td>\n",
              "    </tr>\n",
              "    <tr>\n",
              "      <th>Vlaams Gewest</th>\n",
              "      <td>8.6</td>\n",
              "      <td>9.6</td>\n",
              "      <td>9.6</td>\n",
              "      <td>8.7</td>\n",
              "      <td>7.5</td>\n",
              "      <td>7.0</td>\n",
              "      <td>7.2</td>\n",
              "      <td>6.8</td>\n",
              "      <td>7.2</td>\n",
              "      <td>7.3</td>\n",
              "    </tr>\n",
              "    <tr>\n",
              "      <th>Région wallonne</th>\n",
              "      <td>13.8</td>\n",
              "      <td>13.7</td>\n",
              "      <td>14.7</td>\n",
              "      <td>14.8</td>\n",
              "      <td>14.7</td>\n",
              "      <td>12.9</td>\n",
              "      <td>13.1</td>\n",
              "      <td>10.3</td>\n",
              "      <td>10.5</td>\n",
              "      <td>9.9</td>\n",
              "    </tr>\n",
              "    <tr>\n",
              "      <th>Severna i yugoiztochna Bulgaria</th>\n",
              "      <td>19.2</td>\n",
              "      <td>17.6</td>\n",
              "      <td>16.8</td>\n",
              "      <td>17.3</td>\n",
              "      <td>16.9</td>\n",
              "      <td>17.5</td>\n",
              "      <td>18.2</td>\n",
              "      <td>18.6</td>\n",
              "      <td>17.4</td>\n",
              "      <td>17.8</td>\n",
              "    </tr>\n",
              "    <tr>\n",
              "      <th>Yugozapadna i yuzhna tsentralna Bulgaria</th>\n",
              "      <td>10.1</td>\n",
              "      <td>8.5</td>\n",
              "      <td>7.6</td>\n",
              "      <td>8.2</td>\n",
              "      <td>8.5</td>\n",
              "      <td>8.5</td>\n",
              "      <td>9.3</td>\n",
              "      <td>9.8</td>\n",
              "      <td>8.7</td>\n",
              "      <td>8.3</td>\n",
              "    </tr>\n",
              "    <tr>\n",
              "      <th>...</th>\n",
              "      <td>...</td>\n",
              "      <td>...</td>\n",
              "      <td>...</td>\n",
              "      <td>...</td>\n",
              "      <td>...</td>\n",
              "      <td>...</td>\n",
              "      <td>...</td>\n",
              "      <td>...</td>\n",
              "      <td>...</td>\n",
              "      <td>...</td>\n",
              "    </tr>\n",
              "    <tr>\n",
              "      <th>Bati Karadeniz</th>\n",
              "      <td>47.4</td>\n",
              "      <td>45.2</td>\n",
              "      <td>42.0</td>\n",
              "      <td>38.7</td>\n",
              "      <td>37.2</td>\n",
              "      <td>36.8</td>\n",
              "      <td>31.5</td>\n",
              "      <td>29.6</td>\n",
              "      <td>28.1</td>\n",
              "      <td>27.1</td>\n",
              "    </tr>\n",
              "    <tr>\n",
              "      <th>Dogu Karadeniz</th>\n",
              "      <td>37.5</td>\n",
              "      <td>36.8</td>\n",
              "      <td>33.9</td>\n",
              "      <td>32.3</td>\n",
              "      <td>28.1</td>\n",
              "      <td>29.5</td>\n",
              "      <td>26.0</td>\n",
              "      <td>23.5</td>\n",
              "      <td>21.6</td>\n",
              "      <td>19.8</td>\n",
              "    </tr>\n",
              "    <tr>\n",
              "      <th>Kuzeydogu Anadolu</th>\n",
              "      <td>59.4</td>\n",
              "      <td>58.1</td>\n",
              "      <td>54.2</td>\n",
              "      <td>49.2</td>\n",
              "      <td>51.8</td>\n",
              "      <td>54.8</td>\n",
              "      <td>49.6</td>\n",
              "      <td>42.7</td>\n",
              "      <td>40.0</td>\n",
              "      <td>40.2</td>\n",
              "    </tr>\n",
              "    <tr>\n",
              "      <th>Ortadogu Anadolu</th>\n",
              "      <td>57.0</td>\n",
              "      <td>57.9</td>\n",
              "      <td>57.6</td>\n",
              "      <td>52.1</td>\n",
              "      <td>51.3</td>\n",
              "      <td>49.0</td>\n",
              "      <td>48.2</td>\n",
              "      <td>46.6</td>\n",
              "      <td>45.3</td>\n",
              "      <td>41.8</td>\n",
              "    </tr>\n",
              "    <tr>\n",
              "      <th>Güneydogu Anadolu</th>\n",
              "      <td>65.8</td>\n",
              "      <td>60.0</td>\n",
              "      <td>58.4</td>\n",
              "      <td>60.1</td>\n",
              "      <td>56.4</td>\n",
              "      <td>58.0</td>\n",
              "      <td>53.4</td>\n",
              "      <td>51.6</td>\n",
              "      <td>47.9</td>\n",
              "      <td>47.7</td>\n",
              "    </tr>\n",
              "  </tbody>\n",
              "</table>\n",
              "<p>123 rows × 10 columns</p>\n",
              "</div>"
            ],
            "text/plain": [
              "                                                    2009  2010  ...  2017  2018\n",
              "TIME                                                            ...            \n",
              "Région de Bruxelles-Capitale/Brussels Hoofdsted...  15.6  18.4  ...  12.9  10.7\n",
              "Vlaams Gewest                                        8.6   9.6  ...   7.2   7.3\n",
              "Région wallonne                                     13.8  13.7  ...  10.5   9.9\n",
              "Severna i yugoiztochna Bulgaria                     19.2  17.6  ...  17.4  17.8\n",
              "Yugozapadna i yuzhna tsentralna Bulgaria            10.1   8.5  ...   8.7   8.3\n",
              "...                                                  ...   ...  ...   ...   ...\n",
              "Bati Karadeniz                                      47.4  45.2  ...  28.1  27.1\n",
              "Dogu Karadeniz                                      37.5  36.8  ...  21.6  19.8\n",
              "Kuzeydogu Anadolu                                   59.4  58.1  ...  40.0  40.2\n",
              "Ortadogu Anadolu                                    57.0  57.9  ...  45.3  41.8\n",
              "Güneydogu Anadolu                                   65.8  60.0  ...  47.9  47.7\n",
              "\n",
              "[123 rows x 10 columns]"
            ]
          },
          "metadata": {},
          "execution_count": 28
        }
      ]
    },
    {
      "cell_type": "code",
      "metadata": {
        "id": "gysTSDRTLldk"
      },
      "source": [
        "Tasa_Abandono_Canarias = df.loc['Canarias']\n",
        "Tasa_Abandono_Madrid = df.loc['Comunidad de Madrid']"
      ],
      "execution_count": null,
      "outputs": []
    },
    {
      "cell_type": "code",
      "metadata": {
        "colab": {
          "base_uri": "https://localhost:8080/",
          "height": 281
        },
        "id": "hK44Xz_oNMhc",
        "outputId": "9a82e053-cadb-4e69-8d4a-c04767db0695"
      },
      "source": [
        "Tasa_Abandono_Canarias.plot(grid=True, legend=True)\n",
        "Tasa_Abandono_Madrid.plot(grid=True, legend=True)"
      ],
      "execution_count": null,
      "outputs": [
        {
          "output_type": "execute_result",
          "data": {
            "text/plain": [
              "<matplotlib.axes._subplots.AxesSubplot at 0x7f80f5b4fed0>"
            ]
          },
          "metadata": {},
          "execution_count": 43
        },
        {
          "output_type": "display_data",
          "data": {
            "image/png": "[encoded data removed]",
            "text/plain": [
              "<Figure size 432x288 with 1 Axes>"
            ]
          },
          "metadata": {
            "needs_background": "light"
          }
        }
      ]
    },
    {
      "cell_type": "markdown",
      "metadata": {
        "id": "LPXUHpL1RrPK"
      },
      "source": [
        "##Caso práctico: Esperanza de vida por país\n",
        "\n",
        "\n",
        "Esperanza de vida por país\n",
        "https://data.worldbank.org/indicator/SP.DYN.LE00.IN\n",
        "\n",
        "Hombres\n",
        "https://datos.bancomundial.org/indicador/SP.DYN.LE00.MA.IN\n",
        "\n",
        "Mujeres\n",
        "\n",
        "https://datos.bancomundial.org/indicator/SP.DYN.LE00.FE.IN\n",
        "\n",
        "https://datos.bancomundial.org/indicador/SP.DYN.LE00.IN?end=2019&start=1960\n"
      ]
    },
    {
      "cell_type": "code",
      "metadata": {
        "id": "uh8aerZWPr7n"
      },
      "source": [
        ""
      ],
      "execution_count": null,
      "outputs": []
    }
  ]
}