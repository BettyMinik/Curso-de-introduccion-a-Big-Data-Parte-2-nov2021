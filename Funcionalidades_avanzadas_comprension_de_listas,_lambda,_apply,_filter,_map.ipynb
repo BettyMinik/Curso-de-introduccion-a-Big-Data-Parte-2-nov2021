{
  "nbformat": 4,
  "nbformat_minor": 0,
  "metadata": {
    "colab": {
      "name": "Funcionalidades avanzadas: comprension de listas, lambda, apply, filter, map.ipynb",
      "provenance": [],
      "authorship_tag": "ABX9TyNcTNaIbQMjw0f8nrEv4/21",
      "include_colab_link": true
    },
    "kernelspec": {
      "name": "python3",
      "display_name": "Python 3"
    },
    "language_info": {
      "name": "python"
    }
  },
  "cells": [
    {
      "cell_type": "markdown",
      "metadata": {
        "id": "view-in-github",
        "colab_type": "text"
      },
      "source": [
        "<a href=\"https://colab.research.google.com/github/alberto1971/Curso-de-introduccion-a-Big-Data-Parte-2-nov2021/blob/main/Funcionalidades_avanzadas_comprension_de_listas%2C_lambda%2C_apply%2C_filter%2C_map.ipynb\" target=\"_parent\"><img src=\"https://colab.research.google.com/assets/colab-badge.svg\" alt=\"Open In Colab\"/></a>"
      ]
    },
    {
      "cell_type": "markdown",
      "metadata": {
        "id": "aH5MNb9f_54Y"
      },
      "source": [
        "https://docs.hektorprofe.net/python/funcionalidades-avanzadas/comprension-de-listas/"
      ]
    },
    {
      "cell_type": "code",
      "metadata": {
        "id": "ua1I_JCm-pwn"
      },
      "source": [
        ""
      ],
      "execution_count": null,
      "outputs": []
    }
  ]
}