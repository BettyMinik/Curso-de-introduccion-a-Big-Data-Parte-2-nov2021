{
  "nbformat": 4,
  "nbformat_minor": 0,
  "metadata": {
    "colab": {
      "name": "Funcionalidades avanzadas: comprension de listas, lambda, apply, filter, map.ipynb",
      "provenance": [],
      "authorship_tag": "ABX9TyO6xPy+0Z25Pd9WBsc4mCwM",
      "include_colab_link": true
    },
    "kernelspec": {
      "name": "python3",
      "display_name": "Python 3"
    },
    "language_info": {
      "name": "python"
    }
  },
  "cells": [
    {
      "cell_type": "markdown",
      "metadata": {
        "id": "view-in-github",
        "colab_type": "text"
      },
      "source": [
        "<a href=\"https://colab.research.google.com/github/alberto1971/Curso-de-introduccion-a-Big-Data-Parte-2-nov2021/blob/main/Funcionalidades_avanzadas_comprension_de_listas%2C_lambda%2C_apply%2C_filter%2C_map.ipynb\" target=\"_parent\"><img src=\"https://colab.research.google.com/assets/colab-badge.svg\" alt=\"Open In Colab\"/></a>"
      ]
    },
    {
      "cell_type": "markdown",
      "metadata": {
        "id": "aH5MNb9f_54Y"
      },
      "source": [
        "https://docs.hektorprofe.net/python/funcionalidades-avanzadas/comprension-de-listas/"
      ]
    },
    {
      "cell_type": "markdown",
      "metadata": {
        "id": "tAZiDMNgV34G"
      },
      "source": [
        "#Comprensión de listas\n",
        "\n",
        "La comprensión de listas, del inglés list comprehensions, es una funcionalidad que nos permite crear listas avanzadas en una misma línea de código. Esto se ve mucho mejor en la práctica, así que a lo largo de esta lección vamos a trabajar distintos ejemplos."
      ]
    },
    {
      "cell_type": "code",
      "metadata": {
        "id": "ua1I_JCm-pwn"
      },
      "source": [
        "# Método tradicional para crear una lista con las letras de una palabra\n",
        "lista = []\n",
        "for letra in 'casa':\n",
        "    lista.append(letra)\n",
        "print(lista)"
      ],
      "execution_count": null,
      "outputs": []
    },
    {
      "cell_type": "code",
      "metadata": {
        "id": "jjbXrVv3WHo8"
      },
      "source": [
        "# Con comprensión de listas\n",
        "lista = [letra for letra in 'casa']\n",
        "print(lista)"
      ],
      "execution_count": null,
      "outputs": []
    },
    {
      "cell_type": "code",
      "metadata": {
        "id": "TN9EEIzfWTBJ"
      },
      "source": [
        "# Método tradicional para crear una lista con las potencias de 2 de los primeros 10 números\n",
        "lista = []\n",
        "for numero in range(0,11):\n",
        "    lista.append(numero**2)\n",
        "print(lista)"
      ],
      "execution_count": null,
      "outputs": []
    },
    {
      "cell_type": "code",
      "metadata": {
        "id": "Oy2MCQdYWYJT"
      },
      "source": [
        "# Con comprensión de listas\n",
        "ista = [numero**2 for numero in  range(0,11)]\n",
        "print(lista)"
      ],
      "execution_count": null,
      "outputs": []
    },
    {
      "cell_type": "code",
      "metadata": {
        "colab": {
          "base_uri": "https://localhost:8080/"
        },
        "id": "kGnVA-jSWkvj",
        "outputId": "9aff2d64-eab5-41e1-de9b-35b814cfc387"
      },
      "source": [
        "# Lista de los números del 0 al 10 cuando sea par, es decir, su módulo de 2 sea 0\n",
        "[numero for numero in range(0,11) if numero % 2 == 0 ] "
      ],
      "execution_count": 1,
      "outputs": [
        {
          "output_type": "execute_result",
          "data": {
            "text/plain": [
              "[0, 2, 4, 6, 8, 10]"
            ]
          },
          "metadata": {},
          "execution_count": 1
        }
      ]
    },
    {
      "cell_type": "markdown",
      "metadata": {
        "id": "9nNjRfjIXHON"
      },
      "source": [
        "#Funciones lambda\n",
        "Las funciones o expresiones lambda sirven para crear funciones anónimas. Estamos ante unas de las funcionalidades más potentes de Python a la vez que más confusas para los principiantes.\n",
        "\n",
        "Una función anónima, como su nombre indica es una función sin nombre. ¿Es posible ejecutar una función sin referenciar un nombre? Pues sí, en Python podemos ejecutar una función sin definirla con def. De hecho son similares pero con una diferencia fundamental:\n",
        "\n",
        "El contenido de una función lambda debe ser una única expresión en lugar de un bloque de acciones.\n",
        "\n",
        "Y es que más allá del sentido de función que tenemos, con su nombre y sus acciones internas, una función en su sentido más trivial significa realizar algo sobre algo. Por tanto podríamos decir que, mientras las funciones anónimas lambda sirven para realizar funciones simples, las funciones definidas con def sirven para manejar tareas más extensas.\n",
        "\n",
        "Si deconstruimos una función sencilla, podemos llegar a una función lambda. Por ejemplo tomad la siguiente función para doblar un valor:"
      ]
    },
    {
      "cell_type": "code",
      "metadata": {
        "id": "dKFHPGt6XfgS"
      },
      "source": [
        "#Función\n",
        "def doblar(num):\n",
        "    return num*2"
      ],
      "execution_count": 2,
      "outputs": []
    },
    {
      "cell_type": "code",
      "metadata": {
        "colab": {
          "base_uri": "https://localhost:8080/"
        },
        "id": "-OKAzhElXtHi",
        "outputId": "6e9169de-fc3c-45ef-ea9e-0ca252d90ffe"
      },
      "source": [
        "doblar(5)"
      ],
      "execution_count": 4,
      "outputs": [
        {
          "output_type": "execute_result",
          "data": {
            "text/plain": [
              "10"
            ]
          },
          "metadata": {},
          "execution_count": 4
        }
      ]
    },
    {
      "cell_type": "code",
      "metadata": {
        "colab": {
          "base_uri": "https://localhost:8080/"
        },
        "id": "z7Ih03QaXeL3",
        "outputId": "b6dac3aa-4829-427e-cc48-a30614818f75"
      },
      "source": [
        "#Lambda\n",
        "lambda num: num*2"
      ],
      "execution_count": 5,
      "outputs": [
        {
          "output_type": "execute_result",
          "data": {
            "text/plain": [
              "<function __main__.<lambda>>"
            ]
          },
          "metadata": {},
          "execution_count": 5
        }
      ]
    },
    {
      "cell_type": "code",
      "metadata": {
        "colab": {
          "base_uri": "https://localhost:8080/"
        },
        "id": "-eP2ZfYhXyq8",
        "outputId": "3b97e831-8eb3-467e-e517-f3653cd9afd6"
      },
      "source": [
        "doblar_b = lambda num: num*2\n",
        "doblar_b (5)"
      ],
      "execution_count": 8,
      "outputs": [
        {
          "output_type": "execute_result",
          "data": {
            "text/plain": [
              "10"
            ]
          },
          "metadata": {},
          "execution_count": 8
        }
      ]
    },
    {
      "cell_type": "code",
      "metadata": {
        "id": "1A7lPmzXYdz1"
      },
      "source": [
        "sumar = lambda x,y: x+y\n",
        "\n",
        "sumar(5,2)"
      ],
      "execution_count": null,
      "outputs": []
    },
    {
      "cell_type": "markdown",
      "metadata": {
        "id": "9FvbDM3XYVhG"
      },
      "source": [
        "Darle la vuelta a una cadena utilizando slicing:"
      ]
    },
    {
      "cell_type": "code",
      "metadata": {
        "colab": {
          "base_uri": "https://localhost:8080/",
          "height": 35
        },
        "id": "kMo5p14cX7UX",
        "outputId": "825e3342-44ba-4cae-ed6b-79ed0ace066a"
      },
      "source": [
        "revertir = lambda cadena: cadena[::-1]\n",
        "\n",
        "revertir(\"Hola\")"
      ],
      "execution_count": 9,
      "outputs": [
        {
          "output_type": "execute_result",
          "data": {
            "application/vnd.google.colaboratory.intrinsic+json": {
              "type": "string"
            },
            "text/plain": [
              "'aloH'"
            ]
          },
          "metadata": {},
          "execution_count": 9
        }
      ]
    },
    {
      "cell_type": "markdown",
      "metadata": {
        "id": "0kHVAUMKYtIZ"
      },
      "source": [
        "#Función filter()\n",
        "Tal como su nombre indica filter significa filtrar, y es una de mis funciones favoritas, ya que a partir de una lista o iterador y una función condicional, es capaz de devolver una nueva colección con los elementos filtrados que cumplan la condición.\n",
        "\n",
        "Por ejemplo, supongamos que tenemos una lista varios números y queremos filtrarla, quedándonos únicamente con los múltiples de 5..."
      ]
    },
    {
      "cell_type": "code",
      "metadata": {
        "colab": {
          "base_uri": "https://localhost:8080/"
        },
        "id": "0EWtERTTYx5Z",
        "outputId": "4992c5c2-c8ed-4a9f-dabc-6c99b32966a9"
      },
      "source": [
        "def multiple(numero):    # Primero declaramos una función condicional\n",
        "    if numero % 5 == 0:  # Comprobamos si un numero es múltiple de cinco\n",
        "        return True      # Sólo devolvemos True si lo es\n",
        "\n",
        "numeros = [2, 5, 10, 23, 50, 33]\n",
        "\n",
        "filter(multiple, numeros)"
      ],
      "execution_count": 10,
      "outputs": [
        {
          "output_type": "execute_result",
          "data": {
            "text/plain": [
              "<filter at 0x7f8815f82b10>"
            ]
          },
          "metadata": {},
          "execution_count": 10
        }
      ]
    },
    {
      "cell_type": "markdown",
      "metadata": {
        "id": "aJDbQMvXY3Th"
      },
      "source": [
        "Por tanto cuando utilizamos la función filter() tenemos que enviar una función condicional, pero como recordaréis, no es necesario definirla, podemos utlizar una función anónima lambda:"
      ]
    },
    {
      "cell_type": "code",
      "metadata": {
        "colab": {
          "base_uri": "https://localhost:8080/"
        },
        "id": "6dC1xBMlY5Re",
        "outputId": "984fe075-f224-42ad-8acc-161515765fb3"
      },
      "source": [
        "list( filter(lambda numero: numero%5 == 0, numeros) )\n"
      ],
      "execution_count": 12,
      "outputs": [
        {
          "output_type": "execute_result",
          "data": {
            "text/plain": [
              "[5, 10, 50]"
            ]
          },
          "metadata": {},
          "execution_count": 12
        }
      ]
    },
    {
      "cell_type": "markdown",
      "metadata": {
        "id": "8igVBlryZGYj"
      },
      "source": [
        "##Filtrando objetos\n",
        "Sin embargo, más allá de filtrar listas con valores simples, el verdadero potencial de filter() sale a relucir cuando necesitamos filtrar varios objetos de una lista.\n",
        "\n",
        "Por ejemplo, dada una lista con varias personas, nos gustaría filtrar únicamente las que son menores de edad:"
      ]
    },
    {
      "cell_type": "code",
      "metadata": {
        "id": "nQ7yU-x9ZUUM"
      },
      "source": [
        "class Persona:\n",
        "\n",
        "    def __init__(self, nombre, edad):\n",
        "        self.nombre = nombre\n",
        "        self.edad = edad\n",
        "\n",
        "    def __str__(self):\n",
        "        return \"{} de {} años\".format(self.nombre, self.edad)\n",
        "\n",
        "\n",
        "personas = [\n",
        "    Persona(\"Juan\", 35),\n",
        "    Persona(\"Marta\", 16),\n",
        "    Persona(\"Manuel\", 78),\n",
        "    Persona(\"Eduardo\", 12)\n",
        "]"
      ],
      "execution_count": 23,
      "outputs": []
    },
    {
      "cell_type": "markdown",
      "metadata": {
        "id": "NwhbVCWEZdxY"
      },
      "source": [
        "Para hacerlo nos vamos a servir de una función lambda, comprobando el campo edad para cada persona:"
      ]
    },
    {
      "cell_type": "code",
      "metadata": {
        "colab": {
          "base_uri": "https://localhost:8080/"
        },
        "id": "eNhPGjevZdgK",
        "outputId": "032c8bd3-438a-45e1-f5a2-24a9d714a507"
      },
      "source": [
        "menores = filter(lambda persona: persona.edad < 18, personas)\n",
        "\n",
        "for menor in menores:\n",
        "    print(menor)"
      ],
      "execution_count": 14,
      "outputs": [
        {
          "output_type": "stream",
          "name": "stdout",
          "text": [
            "Marta de 16 años\n",
            "Eduardo de 12 años\n"
          ]
        }
      ]
    },
    {
      "cell_type": "markdown",
      "metadata": {
        "id": "A6I2uZT_ZsEp"
      },
      "source": [
        "#Función map()\n",
        "Esta función trabaja de una forma muy similar a filter(), con la diferencia que en lugar de aplicar una condición a un elemento de una lista o secuencia, aplica una función sobre todos los elementos y como resultado se devuelve un iterable de tipo map:"
      ]
    },
    {
      "cell_type": "code",
      "metadata": {
        "id": "acZwSkuSZvhU"
      },
      "source": [
        "def doblar(numero):\n",
        "    return numero*2\n",
        "\n",
        "numeros = [2, 5, 10, 23, 50, 33]\n",
        "\n",
        "map(doblar, numeros)"
      ],
      "execution_count": null,
      "outputs": []
    },
    {
      "cell_type": "markdown",
      "metadata": {
        "id": "8c_8u2rLZzkl"
      },
      "source": [
        "Fácilmente podemos transformar este iterable en una lista:"
      ]
    },
    {
      "cell_type": "code",
      "metadata": {
        "id": "6A8SR0c5Z1gH"
      },
      "source": [
        "list(map(doblar, numeros))"
      ],
      "execution_count": null,
      "outputs": []
    },
    {
      "cell_type": "markdown",
      "metadata": {
        "id": "fjdsE0b_Z4oV"
      },
      "source": [
        "Y podemos simplificarlo con una función lambda para substituir la llamada de una función definida:"
      ]
    },
    {
      "cell_type": "code",
      "metadata": {
        "id": "zRCaG2iWZ69X"
      },
      "source": [
        "list( map(lambda x: x*2, numeros) )"
      ],
      "execution_count": null,
      "outputs": []
    },
    {
      "cell_type": "markdown",
      "metadata": {
        "id": "yWZAmOIRZ-eZ"
      },
      "source": [
        "La función map() se utiliza mucho junto a expresiones lambda ya que permite ahorrarnos el esfuerzo de crear bucles for.\n",
        "\n",
        "Además se puede utilizar sobre más de un iterable con la condición que tengan la misma longitud.\n",
        "\n",
        "Por ejemplo si queremos multiplicar los números de dos listas:"
      ]
    },
    {
      "cell_type": "code",
      "metadata": {
        "colab": {
          "base_uri": "https://localhost:8080/"
        },
        "id": "ixpiAR-SZ9nK",
        "outputId": "86c0bbd2-8164-43de-ae5d-2b7b9cf0db59"
      },
      "source": [
        "a = [1, 2, 3, 4, 5]\n",
        "b = [6, 7, 8, 9, 10]\n",
        "\n",
        "list( map(lambda x,y : x*y, a,b) )"
      ],
      "execution_count": 15,
      "outputs": [
        {
          "output_type": "execute_result",
          "data": {
            "text/plain": [
              "[6, 14, 24, 36, 50]"
            ]
          },
          "metadata": {},
          "execution_count": 15
        }
      ]
    },
    {
      "cell_type": "code",
      "metadata": {
        "colab": {
          "base_uri": "https://localhost:8080/"
        },
        "id": "JaoXd6hoaHpn",
        "outputId": "2d2fdbe2-196c-4f9b-911d-0d87cc9b3344"
      },
      "source": [
        "#Atención que estamos sumando elemento a elemento porque si hacemos la suma de las listas obtenemos esto\n",
        "a+b"
      ],
      "execution_count": 16,
      "outputs": [
        {
          "output_type": "execute_result",
          "data": {
            "text/plain": [
              "[1, 2, 3, 4, 5, 6, 7, 8, 9, 10]"
            ]
          },
          "metadata": {},
          "execution_count": 16
        }
      ]
    },
    {
      "cell_type": "code",
      "metadata": {
        "id": "LBtF-mMJan4K"
      },
      "source": [
        "a = [1, 2, 3, 4, 5]\n",
        "b = [6, 7, 8, 9, 10]\n",
        "c = [11, 12, 13, 14, 15]\n",
        "\n",
        "list( map(lambda x,y,z : x*y*z, a,b,c) )"
      ],
      "execution_count": null,
      "outputs": []
    },
    {
      "cell_type": "markdown",
      "metadata": {
        "id": "u63k8cYha0QX"
      },
      "source": [
        "##Mapeando objetos\n",
        "Evidentemente, siempre que la utilicemos correctamente podemos mapear una serie de objetos sin ningún problema:"
      ]
    },
    {
      "cell_type": "code",
      "metadata": {
        "colab": {
          "base_uri": "https://localhost:8080/"
        },
        "id": "ZfX6-kHGbGtw",
        "outputId": "e944be00-5d78-4c47-c383-2e098a2d1974"
      },
      "source": [
        "for persona in personas:\n",
        "    print(persona)"
      ],
      "execution_count": 24,
      "outputs": [
        {
          "output_type": "stream",
          "name": "stdout",
          "text": [
            "Juan de 35 años\n",
            "Marta de 16 años\n",
            "Manuel de 78 años\n",
            "Eduardo de 12 años\n"
          ]
        }
      ]
    },
    {
      "cell_type": "code",
      "metadata": {
        "colab": {
          "base_uri": "https://localhost:8080/"
        },
        "id": "u8mssCj2abgH",
        "outputId": "d446f61f-ae68-48a0-8f73-e529afb10d77"
      },
      "source": [
        "def incrementar(p):\n",
        "    p.edad += 1\n",
        "    return p\n",
        "\n",
        "personas = map(incrementar, personas)\n",
        "\n",
        "for persona in personas:\n",
        "    print(persona)"
      ],
      "execution_count": 19,
      "outputs": [
        {
          "output_type": "stream",
          "name": "stdout",
          "text": [
            "Juan de 36 años\n",
            "Marta de 17 años\n",
            "Manuel de 79 años\n",
            "Eduardo de 13 años\n"
          ]
        }
      ]
    },
    {
      "cell_type": "markdown",
      "metadata": {
        "id": "hn1-GOjKcpMM"
      },
      "source": [
        "#Búsqueda de cadenas de texto\n",
        "Una de las tareas más utilizadas en la programación es la búsqueda de subcadenas o patrones dentro de otras cadenas de texto.\n",
        "\n",
        "Las expresiones regulares, también conocidas como 'regex' o 'regexp', son patrones de búsqueda definidos con una sintaxis formal. Siempre que sigamos sus reglas, podremos realizar búsquedas simples y avanzadas, que utilizadas en conjunto con otras funcionalidades, las vuelven una de las opciones más útiles e importantes de cualquier lenguaje.\n",
        "\n",
        "##Métodos básicos\n",
        "re.search: busca un patrón en otra cadena:\n"
      ]
    },
    {
      "cell_type": "code",
      "metadata": {
        "colab": {
          "base_uri": "https://localhost:8080/"
        },
        "id": "KBkMl-0UdQyB",
        "outputId": "1b0f2c13-f509-4d82-e4f2-dc556f79cbd9"
      },
      "source": [
        "import re\n",
        "\n",
        "texto = \"En esta cadena se encuentra una palabra mágica\"\n",
        "\n",
        "re.search('mágica', texto)"
      ],
      "execution_count": 26,
      "outputs": [
        {
          "output_type": "execute_result",
          "data": {
            "text/plain": [
              "<re.Match object; span=(40, 46), match='mágica'>"
            ]
          },
          "metadata": {},
          "execution_count": 26
        }
      ]
    },
    {
      "cell_type": "markdown",
      "metadata": {
        "id": "timP4mrhdYLK"
      },
      "source": [
        "Como vemos, al realizar la búsqueda lo que nos encontramos es un objeto de tipo Match (encontrado), en lugar un simple True o False."
      ]
    },
    {
      "cell_type": "code",
      "metadata": {
        "colab": {
          "base_uri": "https://localhost:8080/"
        },
        "id": "lDTpcu45dbYQ",
        "outputId": "b8c91c57-8f59-483e-808d-dc03d9a9a625"
      },
      "source": [
        "palabra = \"mágica\"\n",
        "\n",
        "encontrado = re.search(palabra,  texto)\n",
        "\n",
        "if encontrado:\n",
        "    print(\"Se ha encontrado la palabra:\", palabra)\n",
        "else:\n",
        "    print(\"No se ha encontrado la palabra:\", palabra)"
      ],
      "execution_count": 27,
      "outputs": [
        {
          "output_type": "stream",
          "name": "stdout",
          "text": [
            "Se ha encontrado la palabra: mágica\n"
          ]
        }
      ]
    },
    {
      "cell_type": "markdown",
      "metadata": {
        "id": "ZUuXCZprdeF2"
      },
      "source": [
        "Sin embargo, volviendo al objeto devuelto de tipo Match, éste nos ofrece algunas opciones interesantes."
      ]
    },
    {
      "cell_type": "code",
      "metadata": {
        "colab": {
          "base_uri": "https://localhost:8080/"
        },
        "id": "CovdIZ8Kdg1W",
        "outputId": "f9f11701-4964-4987-85d0-e06544064209"
      },
      "source": [
        "# Posición donde empieza la coincidencia\n",
        "print( encontrado.start() ) \n",
        "# Posición donde termina la coincidencia\n",
        "print( encontrado.end() )  \n",
        "# Tupla con posiciones donde empieza y termina la coincidencia\n",
        "print( encontrado.span() )   \n",
        "# Cadena sobre la que se ha realizado la búsqueda\n",
        "print( encontrado.string )  "
      ],
      "execution_count": 28,
      "outputs": [
        {
          "output_type": "stream",
          "name": "stdout",
          "text": [
            "40\n",
            "46\n",
            "(40, 46)\n",
            "En esta cadena se encuentra una palabra mágica\n"
          ]
        }
      ]
    },
    {
      "cell_type": "markdown",
      "metadata": {
        "id": "CbQ6PLW6fbhY"
      },
      "source": [
        "re.split: divide una cadena a partir de un patrón:"
      ]
    },
    {
      "cell_type": "code",
      "metadata": {
        "colab": {
          "base_uri": "https://localhost:8080/"
        },
        "id": "878FGgUqfdg0",
        "outputId": "68fcb7d3-49ae-4b33-aecd-2d552502b1d1"
      },
      "source": [
        "texto = \"Vamos a dividir esta cadena\"\n",
        "\n",
        "re.split(' ', texto)"
      ],
      "execution_count": 29,
      "outputs": [
        {
          "output_type": "execute_result",
          "data": {
            "text/plain": [
              "['Vamos', 'a', 'dividir', 'esta', 'cadena']"
            ]
          },
          "metadata": {},
          "execution_count": 29
        }
      ]
    },
    {
      "cell_type": "markdown",
      "metadata": {
        "id": "PBwXajDAfh2C"
      },
      "source": [
        "re.sub: sustituye todas las coincidencias en una cadena:"
      ]
    },
    {
      "cell_type": "code",
      "metadata": {
        "id": "9LuO40yHfjsQ"
      },
      "source": [
        "texto = \"Hola amigo\"\n",
        "\n",
        "re.sub('amigo', 'amiga', texto)"
      ],
      "execution_count": null,
      "outputs": []
    },
    {
      "cell_type": "markdown",
      "metadata": {
        "id": "VFbyZgwHfl4s"
      },
      "source": [
        "re.findall: busca todas las coincidencias en una cadena:"
      ]
    },
    {
      "cell_type": "code",
      "metadata": {
        "id": "kac4tNfOfoCS"
      },
      "source": [
        "texto = \"hola adios hola hola\"\n",
        "\n",
        "re.findall('hola', texto)"
      ],
      "execution_count": null,
      "outputs": []
    }
  ]
}