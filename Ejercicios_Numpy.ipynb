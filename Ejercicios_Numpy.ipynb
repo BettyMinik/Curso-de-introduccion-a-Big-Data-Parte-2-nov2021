{
  "nbformat": 4,
  "nbformat_minor": 0,
  "metadata": {
    "kernelspec": {
      "display_name": "Python [Root]",
      "language": "python",
      "name": "Python [Root]"
    },
    "language_info": {
      "codemirror_mode": {
        "name": "ipython",
        "version": 3
      },
      "file_extension": ".py",
      "mimetype": "text/x-python",
      "name": "python",
      "nbconvert_exporter": "python",
      "pygments_lexer": "ipython3",
      "version": "3.5.2"
    },
    "colab": {
      "name": "Ejercicios_Numpy.ipynb",
      "provenance": [],
      "collapsed_sections": [],
      "include_colab_link": true
    }
  },
  "cells": [
    {
      "cell_type": "markdown",
      "metadata": {
        "id": "view-in-github",
        "colab_type": "text"
      },
      "source": [
        "<a href=\"https://colab.research.google.com/github/BettyMinik/Curso-de-introduccion-a-Big-Data-Parte-2-nov2021/blob/main/Ejercicios_Numpy.ipynb\" target=\"_parent\"><img src=\"https://colab.research.google.com/assets/colab-badge.svg\" alt=\"Open In Colab\"/></a>"
      ]
    },
    {
      "cell_type": "markdown",
      "metadata": {
        "id": "1RFu-SqY9YzC"
      },
      "source": [
        "1. Crear un array con valores dentro del rango 10 a 49"
      ]
    },
    {
      "cell_type": "code",
      "metadata": {
        "colab": {
          "base_uri": "https://localhost:8080/"
        },
        "id": "aI8-Vhhy6GpJ",
        "outputId": "ca9a956d-0e36-4d60-c7a9-4a1ce511e58e"
      },
      "source": [
        "import numpy as np\n",
        "a = np.arange(10,50)\n",
        "a"
      ],
      "execution_count": 3,
      "outputs": [
        {
          "output_type": "execute_result",
          "data": {
            "text/plain": [
              "array([10, 11, 12, 13, 14, 15, 16, 17, 18, 19, 20, 21, 22, 23, 24, 25, 26,\n",
              "       27, 28, 29, 30, 31, 32, 33, 34, 35, 36, 37, 38, 39, 40, 41, 42, 43,\n",
              "       44, 45, 46, 47, 48])"
            ]
          },
          "metadata": {},
          "execution_count": 3
        }
      ]
    },
    {
      "cell_type": "markdown",
      "metadata": {
        "id": "ohjn9gA39YzE"
      },
      "source": [
        "2. Invertir el array"
      ]
    },
    {
      "cell_type": "code",
      "metadata": {
        "colab": {
          "base_uri": "https://localhost:8080/"
        },
        "id": "Y8aYcXE083hv",
        "outputId": "2a783897-e868-4112-c04c-11991d9abd39"
      },
      "source": [
        "b=np.flip(a)\n",
        "a[::-1]\n",
        "#b"
      ],
      "execution_count": 23,
      "outputs": [
        {
          "output_type": "execute_result",
          "data": {
            "text/plain": [
              "array([7, 6, 5, 4, 3, 2, 1, 0])"
            ]
          },
          "metadata": {},
          "execution_count": 23
        }
      ]
    },
    {
      "cell_type": "markdown",
      "metadata": {
        "id": "Ou9NcGGF9YzF"
      },
      "source": [
        "3. Crear una array o matriz 1D con valores de 0 a 8. Cambiar la forma de la matriz a 3x3"
      ]
    },
    {
      "cell_type": "code",
      "metadata": {
        "colab": {
          "base_uri": "https://localhost:8080/"
        },
        "id": "OJpSkewW-HQn",
        "outputId": "0634fb25-0ae1-40e8-acd7-b02a656e2e00"
      },
      "source": [
        "a=np.arange(0,9)\n",
        "a\n",
        "a=a.reshape(3,3)\n",
        "a"
      ],
      "execution_count": 24,
      "outputs": [
        {
          "output_type": "execute_result",
          "data": {
            "text/plain": [
              "array([[0, 1, 2],\n",
              "       [3, 4, 5],\n",
              "       [6, 7, 8]])"
            ]
          },
          "metadata": {},
          "execution_count": 24
        }
      ]
    },
    {
      "cell_type": "markdown",
      "metadata": {
        "id": "hFxWSSsA9YzI"
      },
      "source": [
        "4. Crear una matriz identidad de 6x6"
      ]
    },
    {
      "cell_type": "code",
      "metadata": {
        "colab": {
          "base_uri": "https://localhost:8080/"
        },
        "id": "GrbFbULh_ZPt",
        "outputId": "4614c7c2-144f-4ba8-dc3b-2cd28d859c2b"
      },
      "source": [
        "identidad = np.eye(6)\n",
        "identidad"
      ],
      "execution_count": 17,
      "outputs": [
        {
          "output_type": "execute_result",
          "data": {
            "text/plain": [
              "array([[1., 0., 0., 0., 0., 0.],\n",
              "       [0., 1., 0., 0., 0., 0.],\n",
              "       [0., 0., 1., 0., 0., 0.],\n",
              "       [0., 0., 0., 1., 0., 0.],\n",
              "       [0., 0., 0., 0., 1., 0.],\n",
              "       [0., 0., 0., 0., 0., 1.]])"
            ]
          },
          "metadata": {},
          "execution_count": 17
        }
      ]
    },
    {
      "cell_type": "markdown",
      "metadata": {
        "id": "3D2-jcNS9YzJ"
      },
      "source": [
        "5. Crear una matriz con valores al azar con forma 3x3x3 "
      ]
    },
    {
      "cell_type": "code",
      "metadata": {
        "colab": {
          "base_uri": "https://localhost:8080/"
        },
        "id": "5A7Zv8lz_jwi",
        "outputId": "eb32bb1e-01b7-4b04-c2b4-691a0b13b7a9"
      },
      "source": [
        "a=np.random.rand(3,3,3)\n",
        "a"
      ],
      "execution_count": 18,
      "outputs": [
        {
          "output_type": "execute_result",
          "data": {
            "text/plain": [
              "array([[[0.04479738, 0.02237863, 0.78734905],\n",
              "        [0.65333117, 0.60412899, 0.06244475],\n",
              "        [0.44459791, 0.44008054, 0.25007734]],\n",
              "\n",
              "       [[0.11674962, 0.93944062, 0.95918147],\n",
              "        [0.92947042, 0.1142009 , 0.19601007],\n",
              "        [0.75542177, 0.12726233, 0.57667888]],\n",
              "\n",
              "       [[0.80710373, 0.33410191, 0.4899404 ],\n",
              "        [0.434987  , 0.80844644, 0.43508968],\n",
              "        [0.05427264, 0.22718259, 0.77119181]]])"
            ]
          },
          "metadata": {},
          "execution_count": 18
        }
      ]
    },
    {
      "cell_type": "markdown",
      "metadata": {
        "id": "WX2GXD4L9YzK"
      },
      "source": [
        "6. Encontrar los indices de los valores minimos y maximos de la anterior matriz"
      ]
    },
    {
      "cell_type": "markdown",
      "metadata": {
        "id": "SWxt_CgB9YzM"
      },
      "source": [
        "7. Crear dos arrays al azar A y B, verificar si son iguales"
      ]
    },
    {
      "cell_type": "markdown",
      "metadata": {
        "id": "wvRe-Jhd9YzH"
      },
      "source": [
        "8. Encontrar los indices que no son ceros del array [1,2,4,2,4,0,1,0,0,0,12,4,5,6,7,0]"
      ]
    },
    {
      "cell_type": "markdown",
      "metadata": {
        "id": "9vVPScoa9YzK"
      },
      "source": [
        "9. Crear una matriz de 10x10 con 1's en los bordes y 0 en el interior (con rangos de indices)"
      ]
    },
    {
      "cell_type": "markdown",
      "metadata": {
        "id": "NTKSyjX09YzL"
      },
      "source": [
        "10. Crear una matriz de 5x5 con valores en los renglones que vayan de 0 a 4"
      ]
    }
  ]
}